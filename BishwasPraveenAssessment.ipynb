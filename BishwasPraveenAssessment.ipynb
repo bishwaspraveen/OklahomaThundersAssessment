{
 "cells": [
  {
   "cell_type": "code",
   "execution_count": 134,
   "metadata": {},
   "outputs": [],
   "source": [
    "#importing packages that are necessary for the assessment\n",
    "import numpy as np\n",
    "import pandas as pd\n",
    "pd.options.mode.chained_assignment = None  # default='warn'"
   ]
  },
  {
   "cell_type": "code",
   "execution_count": 135,
   "metadata": {},
   "outputs": [
    {
     "data": {
      "text/html": [
       "<div>\n",
       "<style scoped>\n",
       "    .dataframe tbody tr th:only-of-type {\n",
       "        vertical-align: middle;\n",
       "    }\n",
       "\n",
       "    .dataframe tbody tr th {\n",
       "        vertical-align: top;\n",
       "    }\n",
       "\n",
       "    .dataframe thead th {\n",
       "        text-align: right;\n",
       "    }\n",
       "</style>\n",
       "<table border=\"1\" class=\"dataframe\">\n",
       "  <thead>\n",
       "    <tr style=\"text-align: right;\">\n",
       "      <th></th>\n",
       "      <th>team</th>\n",
       "      <th>x</th>\n",
       "      <th>y</th>\n",
       "      <th>fgmade</th>\n",
       "    </tr>\n",
       "  </thead>\n",
       "  <tbody>\n",
       "    <tr>\n",
       "      <th>0</th>\n",
       "      <td>Team A</td>\n",
       "      <td>-23.1</td>\n",
       "      <td>3.5</td>\n",
       "      <td>0</td>\n",
       "    </tr>\n",
       "    <tr>\n",
       "      <th>1</th>\n",
       "      <td>Team A</td>\n",
       "      <td>0.0</td>\n",
       "      <td>25.1</td>\n",
       "      <td>1</td>\n",
       "    </tr>\n",
       "    <tr>\n",
       "      <th>2</th>\n",
       "      <td>Team A</td>\n",
       "      <td>0.5</td>\n",
       "      <td>1.0</td>\n",
       "      <td>1</td>\n",
       "    </tr>\n",
       "    <tr>\n",
       "      <th>3</th>\n",
       "      <td>Team A</td>\n",
       "      <td>-5.6</td>\n",
       "      <td>5.2</td>\n",
       "      <td>0</td>\n",
       "    </tr>\n",
       "    <tr>\n",
       "      <th>4</th>\n",
       "      <td>Team A</td>\n",
       "      <td>4.0</td>\n",
       "      <td>14.5</td>\n",
       "      <td>1</td>\n",
       "    </tr>\n",
       "    <tr>\n",
       "      <th>...</th>\n",
       "      <td>...</td>\n",
       "      <td>...</td>\n",
       "      <td>...</td>\n",
       "      <td>...</td>\n",
       "    </tr>\n",
       "    <tr>\n",
       "      <th>555</th>\n",
       "      <td>Team B</td>\n",
       "      <td>7.8</td>\n",
       "      <td>24.7</td>\n",
       "      <td>0</td>\n",
       "    </tr>\n",
       "    <tr>\n",
       "      <th>556</th>\n",
       "      <td>Team B</td>\n",
       "      <td>10.1</td>\n",
       "      <td>1.4</td>\n",
       "      <td>1</td>\n",
       "    </tr>\n",
       "    <tr>\n",
       "      <th>557</th>\n",
       "      <td>Team B</td>\n",
       "      <td>-17.8</td>\n",
       "      <td>-0.1</td>\n",
       "      <td>0</td>\n",
       "    </tr>\n",
       "    <tr>\n",
       "      <th>558</th>\n",
       "      <td>Team B</td>\n",
       "      <td>22.6</td>\n",
       "      <td>2.9</td>\n",
       "      <td>0</td>\n",
       "    </tr>\n",
       "    <tr>\n",
       "      <th>559</th>\n",
       "      <td>Team B</td>\n",
       "      <td>-0.7</td>\n",
       "      <td>14.7</td>\n",
       "      <td>1</td>\n",
       "    </tr>\n",
       "  </tbody>\n",
       "</table>\n",
       "<p>560 rows × 4 columns</p>\n",
       "</div>"
      ],
      "text/plain": [
       "       team     x     y  fgmade\n",
       "0    Team A -23.1   3.5       0\n",
       "1    Team A   0.0  25.1       1\n",
       "2    Team A   0.5   1.0       1\n",
       "3    Team A  -5.6   5.2       0\n",
       "4    Team A   4.0  14.5       1\n",
       "..      ...   ...   ...     ...\n",
       "555  Team B   7.8  24.7       0\n",
       "556  Team B  10.1   1.4       1\n",
       "557  Team B -17.8  -0.1       0\n",
       "558  Team B  22.6   2.9       0\n",
       "559  Team B  -0.7  14.7       1\n",
       "\n",
       "[560 rows x 4 columns]"
      ]
     },
     "execution_count": 135,
     "metadata": {},
     "output_type": "execute_result"
    }
   ],
   "source": [
    "#Reading in the data into a pandas dataframe\n",
    "teamsDataFrame = pd.read_csv(r'shots_data.csv')\n",
    "teamsDataFrame"
   ]
  },
  {
   "cell_type": "code",
   "execution_count": 136,
   "metadata": {},
   "outputs": [
    {
     "data": {
      "text/html": [
       "<div>\n",
       "<style scoped>\n",
       "    .dataframe tbody tr th:only-of-type {\n",
       "        vertical-align: middle;\n",
       "    }\n",
       "\n",
       "    .dataframe tbody tr th {\n",
       "        vertical-align: top;\n",
       "    }\n",
       "\n",
       "    .dataframe thead th {\n",
       "        text-align: right;\n",
       "    }\n",
       "</style>\n",
       "<table border=\"1\" class=\"dataframe\">\n",
       "  <thead>\n",
       "    <tr style=\"text-align: right;\">\n",
       "      <th></th>\n",
       "      <th>team</th>\n",
       "      <th>x</th>\n",
       "      <th>y</th>\n",
       "      <th>fgmade</th>\n",
       "    </tr>\n",
       "  </thead>\n",
       "  <tbody>\n",
       "    <tr>\n",
       "      <th>0</th>\n",
       "      <td>Team A</td>\n",
       "      <td>-23.1</td>\n",
       "      <td>3.5</td>\n",
       "      <td>0</td>\n",
       "    </tr>\n",
       "    <tr>\n",
       "      <th>1</th>\n",
       "      <td>Team A</td>\n",
       "      <td>0.0</td>\n",
       "      <td>25.1</td>\n",
       "      <td>1</td>\n",
       "    </tr>\n",
       "    <tr>\n",
       "      <th>2</th>\n",
       "      <td>Team A</td>\n",
       "      <td>0.5</td>\n",
       "      <td>1.0</td>\n",
       "      <td>1</td>\n",
       "    </tr>\n",
       "    <tr>\n",
       "      <th>3</th>\n",
       "      <td>Team A</td>\n",
       "      <td>-5.6</td>\n",
       "      <td>5.2</td>\n",
       "      <td>0</td>\n",
       "    </tr>\n",
       "    <tr>\n",
       "      <th>4</th>\n",
       "      <td>Team A</td>\n",
       "      <td>4.0</td>\n",
       "      <td>14.5</td>\n",
       "      <td>1</td>\n",
       "    </tr>\n",
       "    <tr>\n",
       "      <th>...</th>\n",
       "      <td>...</td>\n",
       "      <td>...</td>\n",
       "      <td>...</td>\n",
       "      <td>...</td>\n",
       "    </tr>\n",
       "    <tr>\n",
       "      <th>275</th>\n",
       "      <td>Team A</td>\n",
       "      <td>23.0</td>\n",
       "      <td>4.7</td>\n",
       "      <td>1</td>\n",
       "    </tr>\n",
       "    <tr>\n",
       "      <th>276</th>\n",
       "      <td>Team A</td>\n",
       "      <td>-3.0</td>\n",
       "      <td>25.4</td>\n",
       "      <td>0</td>\n",
       "    </tr>\n",
       "    <tr>\n",
       "      <th>277</th>\n",
       "      <td>Team A</td>\n",
       "      <td>-8.0</td>\n",
       "      <td>2.6</td>\n",
       "      <td>1</td>\n",
       "    </tr>\n",
       "    <tr>\n",
       "      <th>278</th>\n",
       "      <td>Team A</td>\n",
       "      <td>-7.6</td>\n",
       "      <td>1.7</td>\n",
       "      <td>0</td>\n",
       "    </tr>\n",
       "    <tr>\n",
       "      <th>279</th>\n",
       "      <td>Team A</td>\n",
       "      <td>-5.5</td>\n",
       "      <td>6.2</td>\n",
       "      <td>1</td>\n",
       "    </tr>\n",
       "  </tbody>\n",
       "</table>\n",
       "<p>280 rows × 4 columns</p>\n",
       "</div>"
      ],
      "text/plain": [
       "       team     x     y  fgmade\n",
       "0    Team A -23.1   3.5       0\n",
       "1    Team A   0.0  25.1       1\n",
       "2    Team A   0.5   1.0       1\n",
       "3    Team A  -5.6   5.2       0\n",
       "4    Team A   4.0  14.5       1\n",
       "..      ...   ...   ...     ...\n",
       "275  Team A  23.0   4.7       1\n",
       "276  Team A  -3.0  25.4       0\n",
       "277  Team A  -8.0   2.6       1\n",
       "278  Team A  -7.6   1.7       0\n",
       "279  Team A  -5.5   6.2       1\n",
       "\n",
       "[280 rows x 4 columns]"
      ]
     },
     "execution_count": 136,
     "metadata": {},
     "output_type": "execute_result"
    }
   ],
   "source": [
    "#Spliting the original dataframe into two seperate dataframes based on team names (Team A and Team B)\n",
    "#Visualizing Team A dataframe\n",
    "teamADataFrame = teamsDataFrame[teamsDataFrame['team']=='Team A']\n",
    "teamADataFrame"
   ]
  },
  {
   "cell_type": "code",
   "execution_count": 137,
   "metadata": {},
   "outputs": [
    {
     "data": {
      "text/html": [
       "<div>\n",
       "<style scoped>\n",
       "    .dataframe tbody tr th:only-of-type {\n",
       "        vertical-align: middle;\n",
       "    }\n",
       "\n",
       "    .dataframe tbody tr th {\n",
       "        vertical-align: top;\n",
       "    }\n",
       "\n",
       "    .dataframe thead th {\n",
       "        text-align: right;\n",
       "    }\n",
       "</style>\n",
       "<table border=\"1\" class=\"dataframe\">\n",
       "  <thead>\n",
       "    <tr style=\"text-align: right;\">\n",
       "      <th></th>\n",
       "      <th>team</th>\n",
       "      <th>x</th>\n",
       "      <th>y</th>\n",
       "      <th>fgmade</th>\n",
       "    </tr>\n",
       "  </thead>\n",
       "  <tbody>\n",
       "    <tr>\n",
       "      <th>280</th>\n",
       "      <td>Team B</td>\n",
       "      <td>2.5</td>\n",
       "      <td>6.2</td>\n",
       "      <td>0</td>\n",
       "    </tr>\n",
       "    <tr>\n",
       "      <th>281</th>\n",
       "      <td>Team B</td>\n",
       "      <td>7.4</td>\n",
       "      <td>18.3</td>\n",
       "      <td>1</td>\n",
       "    </tr>\n",
       "    <tr>\n",
       "      <th>282</th>\n",
       "      <td>Team B</td>\n",
       "      <td>1.1</td>\n",
       "      <td>0.1</td>\n",
       "      <td>0</td>\n",
       "    </tr>\n",
       "    <tr>\n",
       "      <th>283</th>\n",
       "      <td>Team B</td>\n",
       "      <td>-1.6</td>\n",
       "      <td>25.6</td>\n",
       "      <td>0</td>\n",
       "    </tr>\n",
       "    <tr>\n",
       "      <th>284</th>\n",
       "      <td>Team B</td>\n",
       "      <td>-14.4</td>\n",
       "      <td>21.7</td>\n",
       "      <td>1</td>\n",
       "    </tr>\n",
       "    <tr>\n",
       "      <th>...</th>\n",
       "      <td>...</td>\n",
       "      <td>...</td>\n",
       "      <td>...</td>\n",
       "      <td>...</td>\n",
       "    </tr>\n",
       "    <tr>\n",
       "      <th>555</th>\n",
       "      <td>Team B</td>\n",
       "      <td>7.8</td>\n",
       "      <td>24.7</td>\n",
       "      <td>0</td>\n",
       "    </tr>\n",
       "    <tr>\n",
       "      <th>556</th>\n",
       "      <td>Team B</td>\n",
       "      <td>10.1</td>\n",
       "      <td>1.4</td>\n",
       "      <td>1</td>\n",
       "    </tr>\n",
       "    <tr>\n",
       "      <th>557</th>\n",
       "      <td>Team B</td>\n",
       "      <td>-17.8</td>\n",
       "      <td>-0.1</td>\n",
       "      <td>0</td>\n",
       "    </tr>\n",
       "    <tr>\n",
       "      <th>558</th>\n",
       "      <td>Team B</td>\n",
       "      <td>22.6</td>\n",
       "      <td>2.9</td>\n",
       "      <td>0</td>\n",
       "    </tr>\n",
       "    <tr>\n",
       "      <th>559</th>\n",
       "      <td>Team B</td>\n",
       "      <td>-0.7</td>\n",
       "      <td>14.7</td>\n",
       "      <td>1</td>\n",
       "    </tr>\n",
       "  </tbody>\n",
       "</table>\n",
       "<p>280 rows × 4 columns</p>\n",
       "</div>"
      ],
      "text/plain": [
       "       team     x     y  fgmade\n",
       "280  Team B   2.5   6.2       0\n",
       "281  Team B   7.4  18.3       1\n",
       "282  Team B   1.1   0.1       0\n",
       "283  Team B  -1.6  25.6       0\n",
       "284  Team B -14.4  21.7       1\n",
       "..      ...   ...   ...     ...\n",
       "555  Team B   7.8  24.7       0\n",
       "556  Team B  10.1   1.4       1\n",
       "557  Team B -17.8  -0.1       0\n",
       "558  Team B  22.6   2.9       0\n",
       "559  Team B  -0.7  14.7       1\n",
       "\n",
       "[280 rows x 4 columns]"
      ]
     },
     "execution_count": 137,
     "metadata": {},
     "output_type": "execute_result"
    }
   ],
   "source": [
    "#Visualizing Team B dataframe\n",
    "teamBDataFrame = teamsDataFrame[teamsDataFrame['team']=='Team B']\n",
    "teamBDataFrame"
   ]
  },
  {
   "cell_type": "code",
   "execution_count": 138,
   "metadata": {},
   "outputs": [
    {
     "data": {
      "text/html": [
       "<div>\n",
       "<style scoped>\n",
       "    .dataframe tbody tr th:only-of-type {\n",
       "        vertical-align: middle;\n",
       "    }\n",
       "\n",
       "    .dataframe tbody tr th {\n",
       "        vertical-align: top;\n",
       "    }\n",
       "\n",
       "    .dataframe thead th {\n",
       "        text-align: right;\n",
       "    }\n",
       "</style>\n",
       "<table border=\"1\" class=\"dataframe\">\n",
       "  <thead>\n",
       "    <tr style=\"text-align: right;\">\n",
       "      <th></th>\n",
       "      <th>team</th>\n",
       "      <th>x</th>\n",
       "      <th>y</th>\n",
       "      <th>fgmade</th>\n",
       "      <th>distance</th>\n",
       "    </tr>\n",
       "  </thead>\n",
       "  <tbody>\n",
       "    <tr>\n",
       "      <th>0</th>\n",
       "      <td>Team A</td>\n",
       "      <td>-23.1</td>\n",
       "      <td>3.5</td>\n",
       "      <td>0</td>\n",
       "      <td>23.363647</td>\n",
       "    </tr>\n",
       "    <tr>\n",
       "      <th>1</th>\n",
       "      <td>Team A</td>\n",
       "      <td>0.0</td>\n",
       "      <td>25.1</td>\n",
       "      <td>1</td>\n",
       "      <td>25.100000</td>\n",
       "    </tr>\n",
       "    <tr>\n",
       "      <th>2</th>\n",
       "      <td>Team A</td>\n",
       "      <td>0.5</td>\n",
       "      <td>1.0</td>\n",
       "      <td>1</td>\n",
       "      <td>1.118034</td>\n",
       "    </tr>\n",
       "    <tr>\n",
       "      <th>3</th>\n",
       "      <td>Team A</td>\n",
       "      <td>-5.6</td>\n",
       "      <td>5.2</td>\n",
       "      <td>0</td>\n",
       "      <td>7.641989</td>\n",
       "    </tr>\n",
       "    <tr>\n",
       "      <th>4</th>\n",
       "      <td>Team A</td>\n",
       "      <td>4.0</td>\n",
       "      <td>14.5</td>\n",
       "      <td>1</td>\n",
       "      <td>15.041609</td>\n",
       "    </tr>\n",
       "    <tr>\n",
       "      <th>...</th>\n",
       "      <td>...</td>\n",
       "      <td>...</td>\n",
       "      <td>...</td>\n",
       "      <td>...</td>\n",
       "      <td>...</td>\n",
       "    </tr>\n",
       "    <tr>\n",
       "      <th>275</th>\n",
       "      <td>Team A</td>\n",
       "      <td>23.0</td>\n",
       "      <td>4.7</td>\n",
       "      <td>1</td>\n",
       "      <td>23.475306</td>\n",
       "    </tr>\n",
       "    <tr>\n",
       "      <th>276</th>\n",
       "      <td>Team A</td>\n",
       "      <td>-3.0</td>\n",
       "      <td>25.4</td>\n",
       "      <td>0</td>\n",
       "      <td>25.576552</td>\n",
       "    </tr>\n",
       "    <tr>\n",
       "      <th>277</th>\n",
       "      <td>Team A</td>\n",
       "      <td>-8.0</td>\n",
       "      <td>2.6</td>\n",
       "      <td>1</td>\n",
       "      <td>8.411896</td>\n",
       "    </tr>\n",
       "    <tr>\n",
       "      <th>278</th>\n",
       "      <td>Team A</td>\n",
       "      <td>-7.6</td>\n",
       "      <td>1.7</td>\n",
       "      <td>0</td>\n",
       "      <td>7.787811</td>\n",
       "    </tr>\n",
       "    <tr>\n",
       "      <th>279</th>\n",
       "      <td>Team A</td>\n",
       "      <td>-5.5</td>\n",
       "      <td>6.2</td>\n",
       "      <td>1</td>\n",
       "      <td>8.287943</td>\n",
       "    </tr>\n",
       "  </tbody>\n",
       "</table>\n",
       "<p>280 rows × 5 columns</p>\n",
       "</div>"
      ],
      "text/plain": [
       "       team     x     y  fgmade   distance\n",
       "0    Team A -23.1   3.5       0  23.363647\n",
       "1    Team A   0.0  25.1       1  25.100000\n",
       "2    Team A   0.5   1.0       1   1.118034\n",
       "3    Team A  -5.6   5.2       0   7.641989\n",
       "4    Team A   4.0  14.5       1  15.041609\n",
       "..      ...   ...   ...     ...        ...\n",
       "275  Team A  23.0   4.7       1  23.475306\n",
       "276  Team A  -3.0  25.4       0  25.576552\n",
       "277  Team A  -8.0   2.6       1   8.411896\n",
       "278  Team A  -7.6   1.7       0   7.787811\n",
       "279  Team A  -5.5   6.2       1   8.287943\n",
       "\n",
       "[280 rows x 5 columns]"
      ]
     },
     "execution_count": 138,
     "metadata": {},
     "output_type": "execute_result"
    }
   ],
   "source": [
    "#Adding a distance column to the dataframe based on the x and y coordinates provided in the dataset with respect to the center of the basketball hoop (0,0)\n",
    "#The formula used here is sqrt((X1-X0)^2 + (Y1-Y0)^2)\n",
    "teamADataFrame['distance'] = (np.sqrt(np.power((teamADataFrame['x']-0),2)+np.power((teamADataFrame['y']-0),2)))\n",
    "teamADataFrame"
   ]
  },
  {
   "cell_type": "code",
   "execution_count": 139,
   "metadata": {},
   "outputs": [
    {
     "data": {
      "text/html": [
       "<div>\n",
       "<style scoped>\n",
       "    .dataframe tbody tr th:only-of-type {\n",
       "        vertical-align: middle;\n",
       "    }\n",
       "\n",
       "    .dataframe tbody tr th {\n",
       "        vertical-align: top;\n",
       "    }\n",
       "\n",
       "    .dataframe thead th {\n",
       "        text-align: right;\n",
       "    }\n",
       "</style>\n",
       "<table border=\"1\" class=\"dataframe\">\n",
       "  <thead>\n",
       "    <tr style=\"text-align: right;\">\n",
       "      <th></th>\n",
       "      <th>team</th>\n",
       "      <th>x</th>\n",
       "      <th>y</th>\n",
       "      <th>fgmade</th>\n",
       "      <th>distance</th>\n",
       "    </tr>\n",
       "  </thead>\n",
       "  <tbody>\n",
       "    <tr>\n",
       "      <th>280</th>\n",
       "      <td>Team B</td>\n",
       "      <td>2.5</td>\n",
       "      <td>6.2</td>\n",
       "      <td>0</td>\n",
       "      <td>6.685058</td>\n",
       "    </tr>\n",
       "    <tr>\n",
       "      <th>281</th>\n",
       "      <td>Team B</td>\n",
       "      <td>7.4</td>\n",
       "      <td>18.3</td>\n",
       "      <td>1</td>\n",
       "      <td>19.739554</td>\n",
       "    </tr>\n",
       "    <tr>\n",
       "      <th>282</th>\n",
       "      <td>Team B</td>\n",
       "      <td>1.1</td>\n",
       "      <td>0.1</td>\n",
       "      <td>0</td>\n",
       "      <td>1.104536</td>\n",
       "    </tr>\n",
       "    <tr>\n",
       "      <th>283</th>\n",
       "      <td>Team B</td>\n",
       "      <td>-1.6</td>\n",
       "      <td>25.6</td>\n",
       "      <td>0</td>\n",
       "      <td>25.649951</td>\n",
       "    </tr>\n",
       "    <tr>\n",
       "      <th>284</th>\n",
       "      <td>Team B</td>\n",
       "      <td>-14.4</td>\n",
       "      <td>21.7</td>\n",
       "      <td>1</td>\n",
       "      <td>26.043233</td>\n",
       "    </tr>\n",
       "    <tr>\n",
       "      <th>...</th>\n",
       "      <td>...</td>\n",
       "      <td>...</td>\n",
       "      <td>...</td>\n",
       "      <td>...</td>\n",
       "      <td>...</td>\n",
       "    </tr>\n",
       "    <tr>\n",
       "      <th>555</th>\n",
       "      <td>Team B</td>\n",
       "      <td>7.8</td>\n",
       "      <td>24.7</td>\n",
       "      <td>0</td>\n",
       "      <td>25.902316</td>\n",
       "    </tr>\n",
       "    <tr>\n",
       "      <th>556</th>\n",
       "      <td>Team B</td>\n",
       "      <td>10.1</td>\n",
       "      <td>1.4</td>\n",
       "      <td>1</td>\n",
       "      <td>10.196568</td>\n",
       "    </tr>\n",
       "    <tr>\n",
       "      <th>557</th>\n",
       "      <td>Team B</td>\n",
       "      <td>-17.8</td>\n",
       "      <td>-0.1</td>\n",
       "      <td>0</td>\n",
       "      <td>17.800281</td>\n",
       "    </tr>\n",
       "    <tr>\n",
       "      <th>558</th>\n",
       "      <td>Team B</td>\n",
       "      <td>22.6</td>\n",
       "      <td>2.9</td>\n",
       "      <td>0</td>\n",
       "      <td>22.785302</td>\n",
       "    </tr>\n",
       "    <tr>\n",
       "      <th>559</th>\n",
       "      <td>Team B</td>\n",
       "      <td>-0.7</td>\n",
       "      <td>14.7</td>\n",
       "      <td>1</td>\n",
       "      <td>14.716657</td>\n",
       "    </tr>\n",
       "  </tbody>\n",
       "</table>\n",
       "<p>280 rows × 5 columns</p>\n",
       "</div>"
      ],
      "text/plain": [
       "       team     x     y  fgmade   distance\n",
       "280  Team B   2.5   6.2       0   6.685058\n",
       "281  Team B   7.4  18.3       1  19.739554\n",
       "282  Team B   1.1   0.1       0   1.104536\n",
       "283  Team B  -1.6  25.6       0  25.649951\n",
       "284  Team B -14.4  21.7       1  26.043233\n",
       "..      ...   ...   ...     ...        ...\n",
       "555  Team B   7.8  24.7       0  25.902316\n",
       "556  Team B  10.1   1.4       1  10.196568\n",
       "557  Team B -17.8  -0.1       0  17.800281\n",
       "558  Team B  22.6   2.9       0  22.785302\n",
       "559  Team B  -0.7  14.7       1  14.716657\n",
       "\n",
       "[280 rows x 5 columns]"
      ]
     },
     "execution_count": 139,
     "metadata": {},
     "output_type": "execute_result"
    }
   ],
   "source": [
    "#Adding a distance column to the dataframe based on the x and y coordinates provided in the dataset with respect to the center of the basketball hoop (0,0)\n",
    "#The formula used here is sqrt((X1-X0)^2 + (Y1-Y0)^2)\n",
    "teamBDataFrame['distance'] = (np.sqrt(np.power((teamBDataFrame['x']-0),2)+np.power((teamBDataFrame['y']-0),2)))\n",
    "teamBDataFrame"
   ]
  },
  {
   "cell_type": "markdown",
   "metadata": {},
   "source": [
    "%%%%%%%%%%%%%%%%%%%%%%%%%%%%%%%%%%%%%%%%%%%%%%%%%%%%%%%%%%%%%%%%%%%%%%%%%%%%%%%%"
   ]
  },
  {
   "cell_type": "code",
   "execution_count": 140,
   "metadata": {},
   "outputs": [
    {
     "data": {
      "text/plain": [
       "280"
      ]
     },
     "execution_count": 140,
     "metadata": {},
     "output_type": "execute_result"
    }
   ],
   "source": [
    "#Calculating the total field goal attempts of Team A\n",
    "TeamATotalAttempts = len(teamADataFrame)\n",
    "TeamATotalAttempts"
   ]
  },
  {
   "cell_type": "code",
   "execution_count": 141,
   "metadata": {},
   "outputs": [
    {
     "data": {
      "text/plain": [
       "170"
      ]
     },
     "execution_count": 141,
     "metadata": {},
     "output_type": "execute_result"
    }
   ],
   "source": [
    "#Calculating the total 2-point field goal attempts of Team A\n",
    "teamA2PTA = len(teamADataFrame[((teamADataFrame['y']<=7.8) & (teamADataFrame['distance']<22))\n",
    "                          |\n",
    "                          ((teamADataFrame['y']>7.8) & (teamADataFrame['distance']<23.75))])\n",
    "teamA2PTA"
   ]
  },
  {
   "cell_type": "code",
   "execution_count": 142,
   "metadata": {},
   "outputs": [
    {
     "data": {
      "text/plain": [
       "0.6071428571428571"
      ]
     },
     "execution_count": 142,
     "metadata": {},
     "output_type": "execute_result"
    }
   ],
   "source": [
    "#Calculating the percentage of 2 point field goals attempted among the total number of shots in the dataset for Team A\n",
    "PercentTeamA2PTA = teamA2PTA/TeamATotalAttempts\n",
    "PercentTeamA2PTA"
   ]
  },
  {
   "cell_type": "code",
   "execution_count": 143,
   "metadata": {},
   "outputs": [
    {
     "data": {
      "text/plain": [
       "90"
      ]
     },
     "execution_count": 143,
     "metadata": {},
     "output_type": "execute_result"
    }
   ],
   "source": [
    "#Calculating the total non corner 3 point field goal attempts of Team A\n",
    "teamANC3A = len(teamADataFrame[(teamADataFrame['y']>7.8) & (teamADataFrame['distance']>=23.75)])\n",
    "teamANC3A"
   ]
  },
  {
   "cell_type": "code",
   "execution_count": 144,
   "metadata": {},
   "outputs": [
    {
     "data": {
      "text/plain": [
       "0.32142857142857145"
      ]
     },
     "execution_count": 144,
     "metadata": {},
     "output_type": "execute_result"
    }
   ],
   "source": [
    "#Calculating the percentage of non corner 3 point field goals attempted among the total number of shots in the dataset for Team A\n",
    "PercentTeamANC3A = teamANC3A/TeamATotalAttempts\n",
    "PercentTeamANC3A"
   ]
  },
  {
   "cell_type": "code",
   "execution_count": 145,
   "metadata": {},
   "outputs": [
    {
     "data": {
      "text/plain": [
       "20"
      ]
     },
     "execution_count": 145,
     "metadata": {},
     "output_type": "execute_result"
    }
   ],
   "source": [
    "#Calculating the total corner 3 point field goal attempts of Team A\n",
    "teamAC3A = len(teamADataFrame[(teamADataFrame['y']<=7.8) & (teamADataFrame['distance']>=22)])\n",
    "teamAC3A"
   ]
  },
  {
   "cell_type": "code",
   "execution_count": 146,
   "metadata": {},
   "outputs": [
    {
     "data": {
      "text/plain": [
       "0.07142857142857142"
      ]
     },
     "execution_count": 146,
     "metadata": {},
     "output_type": "execute_result"
    }
   ],
   "source": [
    "#Calculating the percentage of corner 3 point field goals attempted among the total number of shots in the dataset for Team A\n",
    "PercentTeamAC3A = teamAC3A/TeamATotalAttempts\n",
    "PercentTeamAC3A"
   ]
  },
  {
   "cell_type": "code",
   "execution_count": 147,
   "metadata": {},
   "outputs": [
    {
     "data": {
      "text/plain": [
       "68"
      ]
     },
     "execution_count": 147,
     "metadata": {},
     "output_type": "execute_result"
    }
   ],
   "source": [
    "#Calculating the total 2 point field goals made by Team A\n",
    "teamA2PTM = len(teamADataFrame[((teamADataFrame['y']<=7.8) & (teamADataFrame['distance']<22) & (teamADataFrame['fgmade']==1))\n",
    "                          |\n",
    "                          ((teamADataFrame['y']>7.8) & (teamADataFrame['distance']<23.75) & (teamADataFrame['fgmade']==1))])\n",
    "teamA2PTM"
   ]
  },
  {
   "cell_type": "code",
   "execution_count": 148,
   "metadata": {},
   "outputs": [
    {
     "data": {
      "text/plain": [
       "37"
      ]
     },
     "execution_count": 148,
     "metadata": {},
     "output_type": "execute_result"
    }
   ],
   "source": [
    "#Calculating the total 3 point field goals made by Team A\n",
    "teamA3PM = len(teamADataFrame[((teamADataFrame['y']>7.8) & (teamADataFrame['distance']>=23.75) & (teamADataFrame['fgmade']==1))\n",
    "                         |\n",
    "                         ((teamADataFrame['y']<=7.8) & (teamADataFrame['distance']>=22) & (teamADataFrame['fgmade']==1))])\n",
    "teamA3PM"
   ]
  },
  {
   "cell_type": "code",
   "execution_count": 149,
   "metadata": {},
   "outputs": [
    {
     "data": {
      "text/plain": [
       "0.30892857142857144"
      ]
     },
     "execution_count": 149,
     "metadata": {},
     "output_type": "execute_result"
    }
   ],
   "source": [
    "#eFG in the 2 point zone for Team A\n",
    "teamAeFG2PT = (teamA2PTM + (0.5 * teamA3PM))/TeamATotalAttempts\n",
    "teamAeFG2PT"
   ]
  },
  {
   "cell_type": "code",
   "execution_count": 150,
   "metadata": {},
   "outputs": [
    {
     "data": {
      "text/plain": [
       "29"
      ]
     },
     "execution_count": 150,
     "metadata": {},
     "output_type": "execute_result"
    }
   ],
   "source": [
    "#Calculating the total non corner 3 point field goals made by Team A\n",
    "teamANC3M = len(teamADataFrame[(teamADataFrame['y']>7.8) & (teamADataFrame['distance']>=23.75) & (teamADataFrame['fgmade']==1)])\n",
    "teamANC3M"
   ]
  },
  {
   "cell_type": "code",
   "execution_count": 151,
   "metadata": {},
   "outputs": [
    {
     "data": {
      "text/plain": [
       "0.16964285714285715"
      ]
     },
     "execution_count": 151,
     "metadata": {},
     "output_type": "execute_result"
    }
   ],
   "source": [
    "#eFG in the non corner 3 point zone for Team A\n",
    "teamAeFGNC3 = (teamANC3M + (0.5 * teamA3PM))/TeamATotalAttempts\n",
    "teamAeFGNC3"
   ]
  },
  {
   "cell_type": "code",
   "execution_count": 152,
   "metadata": {},
   "outputs": [
    {
     "data": {
      "text/plain": [
       "8"
      ]
     },
     "execution_count": 152,
     "metadata": {},
     "output_type": "execute_result"
    }
   ],
   "source": [
    "#Calculating the corner 3 point field goals made by Team A\n",
    "teamAC3M = len(teamADataFrame[(teamADataFrame['y']<=7.8) & (teamADataFrame['distance']>=22) & (teamADataFrame['fgmade']==1)])\n",
    "teamAC3M"
   ]
  },
  {
   "cell_type": "code",
   "execution_count": 153,
   "metadata": {},
   "outputs": [
    {
     "data": {
      "text/plain": [
       "0.09464285714285714"
      ]
     },
     "execution_count": 153,
     "metadata": {},
     "output_type": "execute_result"
    }
   ],
   "source": [
    "#eFG in the corner 3 point zone for Team A\n",
    "teamAeFGC3 = (teamAC3M + (0.5 * teamA3PM))/TeamATotalAttempts\n",
    "teamAeFGC3"
   ]
  },
  {
   "cell_type": "markdown",
   "metadata": {},
   "source": [
    "%%%%%%%%%%%%%%%%%%%%%%%%%%%%%%%%%%%%%%%%%%%%%%%%%%%%%%%%%%%%%%%%%%%%%%%%%%%%%%%%"
   ]
  },
  {
   "cell_type": "code",
   "execution_count": 154,
   "metadata": {},
   "outputs": [
    {
     "data": {
      "text/plain": [
       "280"
      ]
     },
     "execution_count": 154,
     "metadata": {},
     "output_type": "execute_result"
    }
   ],
   "source": [
    "#Calculating the total field goal attempts of Team B\n",
    "TeamBTotalAttempts = len(teamBDataFrame)\n",
    "TeamBTotalAttempts"
   ]
  },
  {
   "cell_type": "code",
   "execution_count": 155,
   "metadata": {},
   "outputs": [
    {
     "data": {
      "text/plain": [
       "163"
      ]
     },
     "execution_count": 155,
     "metadata": {},
     "output_type": "execute_result"
    }
   ],
   "source": [
    "#Calculating the total 2-point field goal attempts of Team B\n",
    "teamB2PTA = len(teamBDataFrame[((teamBDataFrame['y']<=7.8) & (teamBDataFrame['distance']<22))\n",
    "                          |\n",
    "                          ((teamBDataFrame['y']>7.8) & (teamBDataFrame['distance']<23.75))])\n",
    "teamB2PTA"
   ]
  },
  {
   "cell_type": "code",
   "execution_count": 156,
   "metadata": {},
   "outputs": [
    {
     "data": {
      "text/plain": [
       "0.5821428571428572"
      ]
     },
     "execution_count": 156,
     "metadata": {},
     "output_type": "execute_result"
    }
   ],
   "source": [
    "#Calculating the percentage of 2 point field goals attempted among the total number of shots in the dataset for Team B\n",
    "PercentTeamB2PTA = teamB2PTA/TeamBTotalAttempts\n",
    "PercentTeamB2PTA"
   ]
  },
  {
   "cell_type": "code",
   "execution_count": 157,
   "metadata": {},
   "outputs": [
    {
     "data": {
      "text/plain": [
       "96"
      ]
     },
     "execution_count": 157,
     "metadata": {},
     "output_type": "execute_result"
    }
   ],
   "source": [
    "#Calculating the total non corner 3 point field goal attempts of Team B\n",
    "teamBNC3A = len(teamBDataFrame[(teamBDataFrame['y']>7.8) & (teamBDataFrame['distance']>=23.75)])\n",
    "teamBNC3A"
   ]
  },
  {
   "cell_type": "code",
   "execution_count": 158,
   "metadata": {},
   "outputs": [
    {
     "data": {
      "text/plain": [
       "0.34285714285714286"
      ]
     },
     "execution_count": 158,
     "metadata": {},
     "output_type": "execute_result"
    }
   ],
   "source": [
    "#Calculating the percentage of non corner 3 point field goals attempted among the total number of shots in the dataset for Team B\n",
    "PercentTeamBNC3A = teamBNC3A/TeamBTotalAttempts\n",
    "PercentTeamBNC3A"
   ]
  },
  {
   "cell_type": "code",
   "execution_count": 159,
   "metadata": {},
   "outputs": [
    {
     "data": {
      "text/plain": [
       "21"
      ]
     },
     "execution_count": 159,
     "metadata": {},
     "output_type": "execute_result"
    }
   ],
   "source": [
    "#Calculating the total corner 3 point field goal attempts of Team B\n",
    "teamBC3A = len(teamBDataFrame[(teamBDataFrame['y']<=7.8) & (teamBDataFrame['distance']>=22)])\n",
    "teamBC3A"
   ]
  },
  {
   "cell_type": "code",
   "execution_count": 160,
   "metadata": {},
   "outputs": [
    {
     "data": {
      "text/plain": [
       "0.075"
      ]
     },
     "execution_count": 160,
     "metadata": {},
     "output_type": "execute_result"
    }
   ],
   "source": [
    "#Calculating the percentage of corner 3 point field goals attempted among the total number of shots in the dataset for Team B\n",
    "PercentTeamBC3A = teamBC3A/TeamBTotalAttempts\n",
    "PercentTeamBC3A"
   ]
  },
  {
   "cell_type": "code",
   "execution_count": 161,
   "metadata": {},
   "outputs": [
    {
     "data": {
      "text/plain": [
       "75"
      ]
     },
     "execution_count": 161,
     "metadata": {},
     "output_type": "execute_result"
    }
   ],
   "source": [
    "#Calculating the total 2 point field goals made by Team B\n",
    "teamB2PTM = len(teamBDataFrame[((teamBDataFrame['y']<=7.8) & (teamBDataFrame['distance']<22) & (teamBDataFrame['fgmade']==1))\n",
    "                          |\n",
    "                          ((teamBDataFrame['y']>7.8) & (teamBDataFrame['distance']<23.75) & (teamBDataFrame['fgmade']==1))])\n",
    "teamB2PTM"
   ]
  },
  {
   "cell_type": "code",
   "execution_count": 162,
   "metadata": {},
   "outputs": [
    {
     "data": {
      "text/plain": [
       "40"
      ]
     },
     "execution_count": 162,
     "metadata": {},
     "output_type": "execute_result"
    }
   ],
   "source": [
    "#Calculating the total 3 point field goals made by Team B\n",
    "teamB3PM = len(teamBDataFrame[((teamBDataFrame['y']>7.8) & (teamBDataFrame['distance']>=23.75) & (teamBDataFrame['fgmade']==1))\n",
    "                         |\n",
    "                         ((teamBDataFrame['y']<=7.8) & (teamBDataFrame['distance']>=22) & (teamBDataFrame['fgmade']==1))])\n",
    "teamB3PM"
   ]
  },
  {
   "cell_type": "code",
   "execution_count": 163,
   "metadata": {},
   "outputs": [
    {
     "data": {
      "text/plain": [
       "0.3392857142857143"
      ]
     },
     "execution_count": 163,
     "metadata": {},
     "output_type": "execute_result"
    }
   ],
   "source": [
    "#eFG in the 2 point zone for Team B\n",
    "teamBeFG2PT = (teamB2PTM + (0.5 * teamB3PM))/TeamBTotalAttempts\n",
    "teamBeFG2PT"
   ]
  },
  {
   "cell_type": "code",
   "execution_count": 164,
   "metadata": {},
   "outputs": [
    {
     "data": {
      "text/plain": [
       "35"
      ]
     },
     "execution_count": 164,
     "metadata": {},
     "output_type": "execute_result"
    }
   ],
   "source": [
    "#Calculating the total non corner 3 point field goals made by Team B\n",
    "teamBNC3M = len(teamBDataFrame[(teamBDataFrame['y']>7.8) & (teamBDataFrame['distance']>=23.75) & (teamBDataFrame['fgmade']==1)])\n",
    "teamBNC3M"
   ]
  },
  {
   "cell_type": "code",
   "execution_count": 165,
   "metadata": {},
   "outputs": [
    {
     "data": {
      "text/plain": [
       "0.19642857142857142"
      ]
     },
     "execution_count": 165,
     "metadata": {},
     "output_type": "execute_result"
    }
   ],
   "source": [
    "#eFG in the non corner 3 point zone for Team B\n",
    "teamBeFGNC3 = (teamBNC3M + (0.5 * teamB3PM))/TeamBTotalAttempts\n",
    "teamBeFGNC3"
   ]
  },
  {
   "cell_type": "code",
   "execution_count": 166,
   "metadata": {},
   "outputs": [
    {
     "data": {
      "text/plain": [
       "5"
      ]
     },
     "execution_count": 166,
     "metadata": {},
     "output_type": "execute_result"
    }
   ],
   "source": [
    "#Calculating the corner 3 point field goals made by Team B\n",
    "teamBC3M = len(teamBDataFrame[(teamBDataFrame['y']<=7.8) & (teamBDataFrame['distance']>=22) & (teamBDataFrame['fgmade']==1)])\n",
    "teamBC3M"
   ]
  },
  {
   "cell_type": "code",
   "execution_count": 167,
   "metadata": {},
   "outputs": [
    {
     "data": {
      "text/plain": [
       "0.08928571428571429"
      ]
     },
     "execution_count": 167,
     "metadata": {},
     "output_type": "execute_result"
    }
   ],
   "source": [
    "#eFG in the corner 3 point zone for Team B\n",
    "teamBeFGC3 = (teamBC3M + (0.5 * teamB3PM))/TeamBTotalAttempts\n",
    "teamBeFGC3"
   ]
  },
  {
   "cell_type": "markdown",
   "metadata": {},
   "source": [
    "%%%%%%%%%%%%%%%%%%%%%%%%%%%%%%%%%%%%%%%%%%%%%%%%%%%%%%%%%%%%%%%%%%%%%%%%%%%%%%%%"
   ]
  }
 ],
 "metadata": {
  "kernelspec": {
   "display_name": "Python 3",
   "language": "python",
   "name": "python3"
  },
  "language_info": {
   "codemirror_mode": {
    "name": "ipython",
    "version": 3
   },
   "file_extension": ".py",
   "mimetype": "text/x-python",
   "name": "python",
   "nbconvert_exporter": "python",
   "pygments_lexer": "ipython3",
   "version": "3.5.6"
  }
 },
 "nbformat": 4,
 "nbformat_minor": 2
}
